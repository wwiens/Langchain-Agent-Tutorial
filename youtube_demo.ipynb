{
 "cells": [
  {
   "cell_type": "markdown",
   "id": "zyc0976yrtc",
   "metadata": {},
   "source": [
    "<div style=\"background: #000; color: #fff; padding: 30px; border-radius: 10px;\">\n",
    "  <h1 style=\"color: #fff; font-size: 2.5em; margin: 0; text-align: center;\">🤖 Build Your First AI Agent</h1>\n",
    "  <h2 style=\"color: #ccc; font-size: 1.3em; margin: 10px 0 30px 0; text-align: center;\">A Step-by-Step LangChain Tutorial</h2>\n",
    "  \n",
    "  <hr style=\"border: 1px solid #333; margin: 20px 0;\">\n",
    "  \n",
    "  <table style=\"width: 80%; color: #fff; border: none; border-collapse: collapse; margin: 0 auto;\">\n",
    "    <tr>\n",
    "      <td style=\"width: 33.33%; vertical-align: top; padding: 0 10px; border: none;\">\n",
    "        <h3 style=\"color: #ffd700; margin: 0 0 10px 0;\">📚 What You'll Learn</h3>\n",
    "        <p style=\"margin: 0; line-height: 1.6; font-size: 0.9em;\">\n",
    "          • AI Agent fundamentals<br>\n",
    "          • Tool creation & integration<br>\n",
    "          • ReAct reasoning patterns<br>\n",
    "          • Multi-tool orchestration\n",
    "        </p>\n",
    "      </td>\n",
    "      <td style=\"width: 33.33%; vertical-align: top; padding: 0 10px; border: none;\">\n",
    "        <h3 style=\"color: #98fb98; margin: 0 0 10px 0;\">🛠️ Tools We'll Build</h3>\n",
    "        <p style=\"margin: 0; line-height: 1.6; font-size: 0.9em;\">\n",
    "          • Calculator for math<br>\n",
    "          • Weather information<br>\n",
    "          • Multi-step reasoning<br>\n",
    "          • Intelligent tool selection\n",
    "        </p>\n",
    "      </td>\n",
    "      <td style=\"width: 33.33%; vertical-align: top; padding: 0 10px; border: none;\">\n",
    "        <h3 style=\"color: #87ceeb; margin: 0 0 10px 0;\">⚡ Technologies</h3>\n",
    "        <p style=\"margin: 0; line-height: 1.6; font-size: 0.9em;\">\n",
    "          • Python 3.8+<br>\n",
    "          • LangChain framework<br>\n",
    "          • OpenAI GPT models<br>\n",
    "          • Jupyter Notebooks\n",
    "        </p>\n",
    "      </td>\n",
    "    </tr>\n",
    "  </table>\n",
    "  \n",
    "  <p style=\"margin: 30px 0 0 0; font-style: italic; color: #ccc; text-align: center;\">\n",
    "    💡 By the end of this tutorial, you'll have a working AI agent that can reason, plan, and execute tasks!\n",
    "  </p>\n",
    "</div>\n",
    "\n",
    "<div style=\"background: #f0f0f0; border-left: 4px solid #007acc; padding: 15px; margin: 20px auto; width: 80%; max-width: 600px;\">\n",
    "  <h4 style=\"margin: 0 0 10px 0; color: #007acc;\">📋 Prerequisites</h4>\n",
    "  <p style=\"margin: 0; color: #333;\">\n",
    "    • Basic Python knowledge<br>\n",
    "    • OpenAI API key (get one at platform.openai.com)<br>\n",
    "    • Python packages: langchain, langchain-openai, python-dotenv\n",
    "  </p>\n",
    "</div>"
   ]
  },
  {
   "cell_type": "markdown",
   "id": "50df7895",
   "metadata": {},
   "source": [
    "<h3 style=\"color: #007acc;\">🔧 Create a calculator tool</h3>"
   ]
  },
  {
   "cell_type": "code",
   "execution_count": 6,
   "id": "cab43882",
   "metadata": {},
   "outputs": [
    {
     "name": "stdout",
     "output_type": "stream",
     "text": [
      "Answer: 60\n"
     ]
    }
   ],
   "source": [
    "# Define a function called calculator that takes a string input `math_problem`\n",
    "def calculator(math_problem):\n",
    "    # Use Python's eval() function to evaluate the math expression in the string\n",
    "    result = eval(math_problem)\n",
    "    \n",
    "    # Return the result as a formatted string\n",
    "    return f\"Answer: {result}\"\n",
    "\n",
    "# Call the calculator function w\n",
    "print(calculator(\"5 * 12\"))"
   ]
  },
  {
   "cell_type": "markdown",
   "id": "1c74e217",
   "metadata": {},
   "source": [
    "<h3 style=\"color: #007acc;\">🔌 Setup our OpenAI Connection</h3>"
   ]
  },
  {
   "cell_type": "code",
   "execution_count": 7,
   "id": "ec7fec62",
   "metadata": {},
   "outputs": [
    {
     "name": "stdout",
     "output_type": "stream",
     "text": [
      "The capital of France is Paris.\n"
     ]
    }
   ],
   "source": [
    "# Import the ChatOpenAI class from the updated langchain_openai package\n",
    "from langchain_openai import ChatOpenAI\n",
    "\n",
    "# Import the dotenv function to load environment variables from a .env file\n",
    "from dotenv import load_dotenv\n",
    "\n",
    "# Load environment variables from a .env file into the environment\n",
    "load_dotenv()\n",
    "\n",
    "# Create an instance of the ChatOpenAI language model\n",
    "# This instance will use the OpenAI API key from the environment variables\n",
    "llm = ChatOpenAI()\n",
    "\n",
    "# Simple test to show our LLM is connected\n",
    "response = llm.invoke(\"What is the capital of France?\")\n",
    "print(response.content)\n"
   ]
  },
  {
   "cell_type": "code",
   "execution_count": null,
   "id": "9dokeq0y0n",
   "metadata": {},
   "outputs": [],
   "source": [
    "# Sample .env file contents\n",
    "# Create a file named \".env\" in your project directory with this content:\n",
    "\n",
    "\"\"\"\n",
    "OPENAI_API_KEY=your_actual_api_key_here\n",
    "\"\"\"\n",
    "\n",
    "# Example: OPENAI_API_KEY=sk-1234567890abcdefghijklmnopqrstuvwxyz\n",
    "# Make sure to:\n",
    "# 1. Replace \"your_actual_api_key_here\" with your real OpenAI API key\n",
    "# 2. Keep the .env file in the same directory as your notebook\n",
    "# 3. Never commit your .env file to version control (add it to .gitignore)"
   ]
  },
  {
   "cell_type": "markdown",
   "id": "6f257aef",
   "metadata": {},
   "source": [
    "<h3 style=\"color: #007acc;\">🛠️ Define tools using Langchain</h3>"
   ]
  },
  {
   "cell_type": "code",
   "execution_count": 9,
   "id": "6dbacf04",
   "metadata": {},
   "outputs": [],
   "source": [
    "# Import necessary components for creating and initializing a LangChain agent\n",
    "from langchain.agents import Tool\n",
    "\n",
    "# Define a list of tools the agent can use\n",
    "# In this case, a single tool: a calculator for basic math\n",
    "tools = [\n",
    "    Tool(\n",
    "        name=\"Calculator\",                 # Name of the tool\n",
    "        func=calculator,                   # The function the tool will call \n",
    "        description=\"Useful for simple math like '2 + 2'\"  # Description that helps the agent decide when to use it\n",
    "    )\n",
    "]\n"
   ]
  },
  {
   "cell_type": "markdown",
   "id": "c32bbbd3",
   "metadata": {},
   "source": [
    "<h3 style=\"color: #007acc;\">🚀 Initialize agent</h3>"
   ]
  },
  {
   "cell_type": "code",
   "execution_count": null,
   "id": "ebdd5508",
   "metadata": {},
   "outputs": [
    {
     "name": "stderr",
     "output_type": "stream",
     "text": [
      "/var/folders/gb/l1f9l5gs03x861my2hb_s6tw0000gn/T/ipykernel_59989/1390177878.py:7: LangChainDeprecationWarning: LangChain agents will continue to be supported, but it is recommended for new use cases to be built with LangGraph. LangGraph offers a more flexible and full-featured framework for building agents, including support for tool-calling, persistence of state, and human-in-the-loop workflows. For details, refer to the `LangGraph documentation <https://langchain-ai.github.io/langgraph/>`_ as well as guides for `Migrating from AgentExecutor <https://python.langchain.com/docs/how_to/migrate_agent/>`_ and LangGraph's `Pre-built ReAct agent <https://langchain-ai.github.io/langgraph/how-tos/create-react-agent/>`_.\n",
      "  agent = initialize_agent(\n"
     ]
    }
   ],
   "source": [
    "# Import the necessary function and enum from LangChain\n",
    "from langchain.agents import initialize_agent, AgentType\n",
    "\n",
    "# Initialize an agent using the specified tools and language model (llm)\n",
    "# AgentType.ZERO_SHOT_REACT_DESCRIPTION tells the agent to reason\n",
    "# and act based on tool descriptions without prior examples\n",
    "\n",
    "# Setting verbose=True enables detailed logging of the agent's decisions and actions\n",
    "agent = initialize_agent(\n",
    "    tools=tools,                        # A list of tools the agent can use\n",
    "    llm=llm,                            # The language model used by the agent\n",
    "    agent=AgentType.ZERO_SHOT_REACT_DESCRIPTION,  # Agent behavior type\n",
    "    verbose=True                        # Print reasoning steps during execution\n",
    ")\n"
   ]
  },
  {
   "cell_type": "markdown",
   "id": "17d977cb",
   "metadata": {},
   "source": [
    "<h2 style=\"color: #007acc;\">🏃‍♂️ Let's run it</h2>"
   ]
  },
  {
   "cell_type": "code",
   "execution_count": 14,
   "id": "d676cabf",
   "metadata": {},
   "outputs": [
    {
     "name": "stdout",
     "output_type": "stream",
     "text": [
      "\n",
      "\n",
      "\u001b[1m> Entering new AgentExecutor chain...\u001b[0m\n",
      "\u001b[32;1m\u001b[1;3mI can use a calculator to multiply these two numbers together\n",
      "Action: Calculator\n",
      "Action Input: 16 * 23\u001b[0m\n",
      "Observation: \u001b[36;1m\u001b[1;3mAnswer: 368\u001b[0m\n",
      "Thought:\u001b[32;1m\u001b[1;3mI now know the final answer\n",
      "Final Answer: 368\u001b[0m\n",
      "\n",
      "\u001b[1m> Finished chain.\u001b[0m\n",
      "368\n"
     ]
    }
   ],
   "source": [
    "result = agent.run(\"What is 16 * 23\")\n",
    "print(result)"
   ]
  },
  {
   "cell_type": "markdown",
   "id": "c2ff260f",
   "metadata": {},
   "source": [
    "<h2 style=\"color: #007acc;\">➕ Let's add a new tool</h2>"
   ]
  },
  {
   "cell_type": "code",
   "execution_count": 17,
   "id": "4da83933",
   "metadata": {},
   "outputs": [
    {
     "name": "stdout",
     "output_type": "stream",
     "text": [
      "Weather in tokyo: 87°F\n"
     ]
    }
   ],
   "source": [
    "def get_weather(city):\n",
    "    \"\"\"\n",
    "    Tool: Weather - Returns weather information for major cities\n",
    "    \n",
    "    Args:\n",
    "        city (str): Name of the city to get weather for\n",
    "        \n",
    "    Returns:\n",
    "        int: The current\n",
    "    \"\"\"\n",
    "    # Simulated weather database (in real app, this would call a weather API)\n",
    "    weather_data = {\n",
    "        \"chicago\": 72,\n",
    "        \"london\": 65, \n",
    "        \"tokyo\": 87,\n",
    "        \"paris\": 59,\n",
    "        \"anchorage\": 31\n",
    "    }\n",
    "    \n",
    "    city = city.lower()  # Convert to lowercase for case-insensitive matching\n",
    "    \n",
    "    if city in weather_data:\n",
    "        return f\"Weather in {city}: {weather_data[city]}°F\"\n",
    "    else:\n",
    "        return \"City not found\"\n",
    "    \n",
    "print(get_weather(\"tokyo\"))"
   ]
  },
  {
   "cell_type": "markdown",
   "id": "33aacd73",
   "metadata": {},
   "source": [
    "<h2 style=\"color: #007acc;\">🔄 Update the Langchain tool list</h2>"
   ]
  },
  {
   "cell_type": "code",
   "execution_count": 18,
   "id": "9343fc01",
   "metadata": {},
   "outputs": [],
   "source": [
    "# Define a list of tools that the agent can use\n",
    "tools = [\n",
    "    # A simple calculator tool\n",
    "    Tool(\n",
    "        name=\"Calculator\",                          # The name of the tool\n",
    "        func=calculator,                            # The function that will be executed when this tool is called\n",
    "        description=\"Useful for simple math like '2 + 2'\"  # A short description of when to use this tool\n",
    "    ),\n",
    "    \n",
    "    # A weather information tool\n",
    "    Tool(\n",
    "        name=\"Weather\",                             # The name of the tool\n",
    "        func=get_weather,                           # The function to retrieve weather details\n",
    "        description=\"Useful for getting weather information for major cities\"  # Description for when to use this tool\n",
    "    )\n",
    "]\n"
   ]
  },
  {
   "cell_type": "markdown",
   "id": "aef49d21",
   "metadata": {},
   "source": [
    "<h2 style=\"color: #007acc;\">🔧 Re-initialize the agent with both tools</h2>"
   ]
  },
  {
   "cell_type": "code",
   "execution_count": 19,
   "id": "163fdf01",
   "metadata": {},
   "outputs": [],
   "source": [
    "agent = initialize_agent(\n",
    "    tools=tools,\n",
    "    llm=llm,\n",
    "    agent=AgentType.ZERO_SHOT_REACT_DESCRIPTION,\n",
    "    verbose=True\n",
    ")\n"
   ]
  },
  {
   "cell_type": "markdown",
   "id": "b8fe795c",
   "metadata": {},
   "source": [
    "<h2 style=\"color: #007acc;\">🧪 And try the new agent</h2>"
   ]
  },
  {
   "cell_type": "code",
   "execution_count": 20,
   "id": "21daac81",
   "metadata": {},
   "outputs": [
    {
     "name": "stdout",
     "output_type": "stream",
     "text": [
      "\n",
      "\n",
      "\u001b[1m> Entering new AgentExecutor chain...\u001b[0m\n",
      "\u001b[32;1m\u001b[1;3mI need to find out the current temperature in London.\n",
      "Action: Weather\n",
      "Action Input: London\u001b[0m\n",
      "Observation: \u001b[33;1m\u001b[1;3mWeather in london: 65°F\u001b[0m\n",
      "Thought:\u001b[32;1m\u001b[1;3mI have obtained the current temperature in London: 65°F.\n",
      "Final Answer: 65°F\u001b[0m\n",
      "\n",
      "\u001b[1m> Finished chain.\u001b[0m\n",
      "65°F\n"
     ]
    }
   ],
   "source": [
    "agent = initialize_agent(\n",
    "    tools=tools,\n",
    "    llm=llm,\n",
    "    agent=AgentType.ZERO_SHOT_REACT_DESCRIPTION,\n",
    "    verbose=True\n",
    ")\n",
    "\n",
    "result = agent.run(\"What is the temperature in London?\")\n",
    "print(result)"
   ]
  },
  {
   "cell_type": "markdown",
   "id": "f9ca405f",
   "metadata": {},
   "source": [
    "<h2 style=\"color: #007acc;\">🧮 With a math question...</h2>"
   ]
  },
  {
   "cell_type": "code",
   "execution_count": 21,
   "id": "1d8b33eb",
   "metadata": {},
   "outputs": [
    {
     "name": "stdout",
     "output_type": "stream",
     "text": [
      "\n",
      "\n",
      "\u001b[1m> Entering new AgentExecutor chain...\u001b[0m\n",
      "\u001b[32;1m\u001b[1;3mI should use the calculator to solve this multiplication problem.\n",
      "Action: Calculator\n",
      "Action Input: 7 * 32\u001b[0m\n",
      "Observation: \u001b[36;1m\u001b[1;3mAnswer: 224\u001b[0m\n",
      "Thought:\u001b[32;1m\u001b[1;3mI now know the final answer\n",
      "Final Answer: 224\u001b[0m\n",
      "\n",
      "\u001b[1m> Finished chain.\u001b[0m\n",
      "224\n"
     ]
    }
   ],
   "source": [
    "result = agent.run(\"What is 7 * 32\")\n",
    "print(result)"
   ]
  },
  {
   "cell_type": "markdown",
   "id": "4f0c23b0",
   "metadata": {},
   "source": [
    "<h2 style=\"color: #007acc;\">🌍 With two cities...</h2>"
   ]
  },
  {
   "cell_type": "code",
   "execution_count": 22,
   "id": "66140fd4",
   "metadata": {},
   "outputs": [
    {
     "name": "stdout",
     "output_type": "stream",
     "text": [
      "\n",
      "\n",
      "\u001b[1m> Entering new AgentExecutor chain...\u001b[0m\n",
      "\u001b[32;1m\u001b[1;3mI should use the Weather tool to get the temperature for each city.\n",
      "Action: Weather\n",
      "Action Input: London\u001b[0m\n",
      "Observation: \u001b[33;1m\u001b[1;3mWeather in london: 65°F\u001b[0m\n",
      "Thought:\u001b[32;1m\u001b[1;3mI need to check the temperature for Tokyo as well.\n",
      "Action: Weather\n",
      "Action Input: Tokyo\u001b[0m\n",
      "Observation: \u001b[33;1m\u001b[1;3mWeather in tokyo: 87°F\u001b[0m\n",
      "Thought:\u001b[32;1m\u001b[1;3mI now have the temperature for both London and Tokyo.\n",
      "Final Answer: The temperature in London is 65°F and in Tokyo is 87°F.\u001b[0m\n",
      "\n",
      "\u001b[1m> Finished chain.\u001b[0m\n",
      "The temperature in London is 65°F and in Tokyo is 87°F.\n"
     ]
    }
   ],
   "source": [
    "result = agent.run(\"What is the temperature in London and Tokyo?\")\n",
    "print(result)"
   ]
  },
  {
   "cell_type": "markdown",
   "id": "5978738a",
   "metadata": {},
   "source": [
    "<h2 style=\"color: #007acc;\">🤖 And with a question that needs both tools and multiple calls</h2>"
   ]
  },
  {
   "cell_type": "code",
   "execution_count": 23,
   "id": "e2a3653c",
   "metadata": {},
   "outputs": [
    {
     "name": "stdout",
     "output_type": "stream",
     "text": [
      "\n",
      "\n",
      "\u001b[1m> Entering new AgentExecutor chain...\u001b[0m\n",
      "\u001b[32;1m\u001b[1;3mWe need to compare the temperatures in London and Tokyo\n",
      "Action: Weather\n",
      "Action Input: London\u001b[0m\n",
      "Observation: \u001b[33;1m\u001b[1;3mWeather in london: 65°F\u001b[0m\n",
      "Thought:\u001b[32;1m\u001b[1;3mWe have the weather for London, now we need to check Tokyo\n",
      "Action: Weather\n",
      "Action Input: Tokyo\u001b[0m\n",
      "Observation: \u001b[33;1m\u001b[1;3mWeather in tokyo: 87°F\u001b[0m\n",
      "Thought:\u001b[32;1m\u001b[1;3mWe have the temperature for both cities, now we can calculate the difference\n",
      "Action: Calculator\n",
      "Action Input: 87 - 65\u001b[0m\n",
      "Observation: \u001b[36;1m\u001b[1;3mAnswer: 22\u001b[0m\n",
      "Thought:\u001b[32;1m\u001b[1;3mI now know the final answer\n",
      "Final Answer: The difference in temperature between London and Tokyo is 22°F\u001b[0m\n",
      "\n",
      "\u001b[1m> Finished chain.\u001b[0m\n",
      "The difference in temperature between London and Tokyo is 22°F\n"
     ]
    }
   ],
   "source": [
    "result = agent.run(\"What is the difference in temperature between London and Tokyo\")\n",
    "print(result)"
   ]
  },
  {
   "cell_type": "markdown",
   "id": "faea0d14",
   "metadata": {},
   "source": [
    "<div style=\"background: #000; color: #fff; padding: 30px; border-radius: 10px; margin: 20px 0;\">\n",
    "  <h2 style=\"color: #fff; text-align: center; margin: 0 0 20px 0;\">🎉 WRAP-UP</h2>\n",
    "  \n",
    "  <p>Congratulations! You've just built your first AI agent from scratch..</p>\n",
    "  \n",
    "  <h3 style=\"color: #ffd700; margin: 20px 0 10px 0;\">What we built today:</h3>\n",
    "  <p style=\"line-height: 1.6;\">\n",
    "    ✅ Created custom tools (calculator and weather)<br>\n",
    "    ✅ Connected to OpenAI's language model<br>\n",
    "    ✅ Built a ReAct agent that can reason and act<br>\n",
    "    ✅ Demonstrated intelligent tool selection<br>\n",
    "    ✅ Watched an AI system think through problems step by step\n",
    "  </p>\n",
    "  \n",
    "  <h3 style=\"color: #98fb98; margin: 20px 0 10px 0;\">The key concepts you've mastered:</h3>\n",
    "  <p style=\"line-height: 1.6;\">\n",
    "    <strong>Tools:</strong> How to wrap functions so agents can use them<br>\n",
    "    <strong>Descriptions:</strong> How clear descriptions enable smart tool selection<br>\n",
    "    <strong>ReAct Pattern:</strong> How agents reason about problems and take action<br>\n",
    "    <strong>Agent Architecture:</strong> How LLMs, tools, and reasoning work together\n",
    "  </p>\n",
    "  \n",
    "  <h3 style=\"color: #87ceeb; margin: 20px 0 10px 0;\">Your next steps:</h3>\n",
    "  <p style=\"line-height: 1.6;\">\n",
    "    🔧 Try adding more tools: web search, file operations, API calls<br>\n",
    "    🌐 Connect real APIs instead of simulated data<br>\n",
    "    🧠 Experiment with different agent types and reasoning patterns<br>\n",
    "    🛡️ Add error handling and input validation to your tools<br>\n",
    "    📊 Build agents for your specific use case - data analysis, automation, research\n",
    "  </p>\n",
    "  \n",
    "  <h3 style=\"color: #87ceeb; margin: 20px 0 10px 0;\">Real World Applications</h3>\n",
    "\n",
    "  <div style=\"max-width: 80%; margin: 0 auto;\"></p>\n",
    "\n",
    "  <p>The agent you built today is the foundation for everything from customer service bots that can look up orders, to research assistants that can search databases and perform calculations, to automation systems that can interact with multiple APIs.</p>\n",
    "  \n",
    "  <p><strong>Final thought:</strong> You've just created artificial intelligence that can actually DO things, not just talk about them. That's the power of AI agents - they bridge the gap between conversation and action.</p>\n",
    "  \n",
    "  <p style=\"text-align: center; font-style: italic; color: #ccc; margin-top: 20px;\">\n",
    "    If this tutorial helped you, hit that like button and subscribe for more AI tutorials. Drop a comment and let us know what kind of agent you want to build next - maybe we'll feature it in a future video!\n",
    "  </p>\n",
    "  \n",
    "  <p style=\"text-align: center; font-weight: bold; color: #ffd700;\">\n",
    "    Keep building, keep learning, and remember - the future of AI isn't just about smarter chatbots, it's about intelligent systems that can take action in the real world. You just built one!\n",
    "  </p>\n",
    "  </div>\n",
    "</div>"
   ]
  }
 ],
 "metadata": {
  "kernelspec": {
   "display_name": "agents",
   "language": "python",
   "name": "python3"
  },
  "language_info": {
   "codemirror_mode": {
    "name": "ipython",
    "version": 3
   },
   "file_extension": ".py",
   "mimetype": "text/x-python",
   "name": "python",
   "nbconvert_exporter": "python",
   "pygments_lexer": "ipython3",
   "version": "3.12.11"
  }
 },
 "nbformat": 4,
 "nbformat_minor": 5
}
