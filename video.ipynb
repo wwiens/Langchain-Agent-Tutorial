{
 "cells": [
  {
   "cell_type": "markdown",
   "id": "50df7895",
   "metadata": {},
   "source": [
    "### Create a calculator tool"
   ]
  },
  {
   "cell_type": "code",
   "execution_count": 6,
   "id": "cab43882",
   "metadata": {},
   "outputs": [
    {
     "name": "stdout",
     "output_type": "stream",
     "text": [
      "Answer: 60\n"
     ]
    }
   ],
   "source": [
    "# Define a function called calculator that takes a string input `math_problem`\n",
    "def calculator(math_problem):\n",
    "    # Use Python's eval() function to evaluate the math expression in the string\n",
    "    result = eval(math_problem)\n",
    "    \n",
    "    # Return the result as a formatted string\n",
    "    return f\"Answer: {result}\"\n",
    "\n",
    "# Call the calculator function w\n",
    "print(calculator(\"5 * 12\"))"
   ]
  },
  {
   "cell_type": "markdown",
   "id": "1c74e217",
   "metadata": {},
   "source": [
    "### Setup our OpenAI Connection"
   ]
  },
  {
   "cell_type": "code",
   "execution_count": 7,
   "id": "ec7fec62",
   "metadata": {},
   "outputs": [
    {
     "name": "stdout",
     "output_type": "stream",
     "text": [
      "The capital of France is Paris.\n"
     ]
    }
   ],
   "source": [
    "# Import the ChatOpenAI class from the updated langchain_openai package\n",
    "from langchain_openai import ChatOpenAI\n",
    "\n",
    "# Import the dotenv function to load environment variables from a .env file\n",
    "from dotenv import load_dotenv\n",
    "\n",
    "# Load environment variables from a .env file into the environment\n",
    "load_dotenv()\n",
    "\n",
    "# Create an instance of the ChatOpenAI language model\n",
    "# This instance will use the OpenAI API key from the environment variables\n",
    "llm = ChatOpenAI()\n",
    "\n",
    "# Simple test to show our LLM is connected\n",
    "response = llm.invoke(\"What is the capital of France?\")\n",
    "print(response.content)\n"
   ]
  },
  {
   "cell_type": "markdown",
   "id": "6f257aef",
   "metadata": {},
   "source": [
    "### Define tools using Langchain"
   ]
  },
  {
   "cell_type": "code",
   "execution_count": 9,
   "id": "6dbacf04",
   "metadata": {},
   "outputs": [],
   "source": [
    "# Import necessary components for creating and initializing a LangChain agent\n",
    "from langchain.agents import Tool\n",
    "\n",
    "# Define a list of tools the agent can use\n",
    "# In this case, a single tool: a calculator for basic math\n",
    "tools = [\n",
    "    Tool(\n",
    "        name=\"Calculator\",                 # Name of the tool\n",
    "        func=calculator,                   # The function the tool will call \n",
    "        description=\"Useful for simple math like '2 + 2'\"  # Description that helps the agent decide when to use it\n",
    "    )\n",
    "]\n"
   ]
  },
  {
   "cell_type": "markdown",
   "id": "c32bbbd3",
   "metadata": {},
   "source": [
    "### Initialize agent"
   ]
  },
  {
   "cell_type": "code",
   "execution_count": 10,
   "id": "ebdd5508",
   "metadata": {},
   "outputs": [
    {
     "name": "stderr",
     "output_type": "stream",
     "text": [
      "/var/folders/gb/l1f9l5gs03x861my2hb_s6tw0000gn/T/ipykernel_59989/1390177878.py:7: LangChainDeprecationWarning: LangChain agents will continue to be supported, but it is recommended for new use cases to be built with LangGraph. LangGraph offers a more flexible and full-featured framework for building agents, including support for tool-calling, persistence of state, and human-in-the-loop workflows. For details, refer to the `LangGraph documentation <https://langchain-ai.github.io/langgraph/>`_ as well as guides for `Migrating from AgentExecutor <https://python.langchain.com/docs/how_to/migrate_agent/>`_ and LangGraph's `Pre-built ReAct agent <https://langchain-ai.github.io/langgraph/how-tos/create-react-agent/>`_.\n",
      "  agent = initialize_agent(\n"
     ]
    }
   ],
   "source": [
    "# Import the necessary function and enum from LangChain\n",
    "from langchain.agents import initialize_agent, AgentType\n",
    "\n",
    "# Initialize an agent using the specified tools and language model (llm)\n",
    "# AgentType.ZERO_SHOT_REACT_DESCRIPTION tells the agent to reason and act based on tool descriptions without prior examples\n",
    "# Setting verbose=True enables detailed logging of the agent's decisions and actions\n",
    "agent = initialize_agent(\n",
    "    tools=tools,                        # A list of tools the agent can use\n",
    "    llm=llm,                            # The language model used by the agent\n",
    "    agent=AgentType.ZERO_SHOT_REACT_DESCRIPTION,  # Agent behavior type\n",
    "    verbose=True                        # Print reasoning steps during execution\n",
    ")\n"
   ]
  },
  {
   "cell_type": "markdown",
   "id": "17d977cb",
   "metadata": {},
   "source": [
    "## Let's run it"
   ]
  },
  {
   "cell_type": "code",
   "execution_count": 14,
   "id": "d676cabf",
   "metadata": {},
   "outputs": [
    {
     "name": "stdout",
     "output_type": "stream",
     "text": [
      "\n",
      "\n",
      "\u001b[1m> Entering new AgentExecutor chain...\u001b[0m\n",
      "\u001b[32;1m\u001b[1;3mI can use a calculator to multiply these two numbers together\n",
      "Action: Calculator\n",
      "Action Input: 16 * 23\u001b[0m\n",
      "Observation: \u001b[36;1m\u001b[1;3mAnswer: 368\u001b[0m\n",
      "Thought:\u001b[32;1m\u001b[1;3mI now know the final answer\n",
      "Final Answer: 368\u001b[0m\n",
      "\n",
      "\u001b[1m> Finished chain.\u001b[0m\n",
      "368\n"
     ]
    }
   ],
   "source": [
    "result = agent.run(\"What is 16 * 23\")\n",
    "print(result)"
   ]
  },
  {
   "cell_type": "markdown",
   "id": "c2ff260f",
   "metadata": {},
   "source": [
    "## Let's add a new tool"
   ]
  },
  {
   "cell_type": "code",
   "execution_count": 17,
   "id": "4da83933",
   "metadata": {},
   "outputs": [
    {
     "name": "stdout",
     "output_type": "stream",
     "text": [
      "Weather in tokyo: 87°F\n"
     ]
    }
   ],
   "source": [
    "def get_weather(city):\n",
    "    \"\"\"\n",
    "    Tool: Weather - Returns weather information for major cities\n",
    "    \n",
    "    Args:\n",
    "        city (str): Name of the city to get weather for\n",
    "        \n",
    "    Returns:\n",
    "        int: The current\n",
    "    \"\"\"\n",
    "    # Simulated weather database (in real app, this would call a weather API)\n",
    "    weather_data = {\n",
    "        \"chicago\": 72,\n",
    "        \"london\": 65, \n",
    "        \"tokyo\": 87,\n",
    "        \"paris\": 59,\n",
    "        \"anchorage\": 31\n",
    "    }\n",
    "    \n",
    "    city = city.lower()  # Convert to lowercase for case-insensitive matching\n",
    "    \n",
    "    if city in weather_data:\n",
    "        return f\"Weather in {city}: {weather_data[city]}°F\"\n",
    "    else:\n",
    "        return \"City not found\"\n",
    "    \n",
    "print(get_weather(\"tokyo\"))"
   ]
  },
  {
   "cell_type": "markdown",
   "id": "33aacd73",
   "metadata": {},
   "source": [
    "## Update the Langchain tool list"
   ]
  },
  {
   "cell_type": "code",
   "execution_count": 18,
   "id": "9343fc01",
   "metadata": {},
   "outputs": [],
   "source": [
    "# Define a list of tools that the agent can use\n",
    "tools = [\n",
    "    # A simple calculator tool\n",
    "    Tool(\n",
    "        name=\"Calculator\",                          # The name of the tool\n",
    "        func=calculator,                            # The function that will be executed when this tool is called\n",
    "        description=\"Useful for simple math like '2 + 2'\"  # A short description of when to use this tool\n",
    "    ),\n",
    "    \n",
    "    # A weather information tool\n",
    "    Tool(\n",
    "        name=\"Weather\",                             # The name of the tool\n",
    "        func=get_weather,                           # The function to retrieve weather details\n",
    "        description=\"Useful for getting weather information for major cities\"  # Description for when to use this tool\n",
    "    )\n",
    "]\n"
   ]
  },
  {
   "cell_type": "markdown",
   "id": "aef49d21",
   "metadata": {},
   "source": [
    "## Re-initialize the agent with both tools"
   ]
  },
  {
   "cell_type": "code",
   "execution_count": 19,
   "id": "163fdf01",
   "metadata": {},
   "outputs": [],
   "source": [
    "agent = initialize_agent(\n",
    "    tools=tools,\n",
    "    llm=llm,\n",
    "    agent=AgentType.ZERO_SHOT_REACT_DESCRIPTION,\n",
    "    verbose=True\n",
    ")\n"
   ]
  },
  {
   "cell_type": "markdown",
   "id": "b8fe795c",
   "metadata": {},
   "source": [
    "## And try the new agent"
   ]
  },
  {
   "cell_type": "code",
   "execution_count": 20,
   "id": "21daac81",
   "metadata": {},
   "outputs": [
    {
     "name": "stdout",
     "output_type": "stream",
     "text": [
      "\n",
      "\n",
      "\u001b[1m> Entering new AgentExecutor chain...\u001b[0m\n",
      "\u001b[32;1m\u001b[1;3mI need to find out the current temperature in London.\n",
      "Action: Weather\n",
      "Action Input: London\u001b[0m\n",
      "Observation: \u001b[33;1m\u001b[1;3mWeather in london: 65°F\u001b[0m\n",
      "Thought:\u001b[32;1m\u001b[1;3mI have obtained the current temperature in London: 65°F.\n",
      "Final Answer: 65°F\u001b[0m\n",
      "\n",
      "\u001b[1m> Finished chain.\u001b[0m\n",
      "65°F\n"
     ]
    }
   ],
   "source": [
    "agent = initialize_agent(\n",
    "    tools=tools,\n",
    "    llm=llm,\n",
    "    agent=AgentType.ZERO_SHOT_REACT_DESCRIPTION,\n",
    "    verbose=True\n",
    ")\n",
    "\n",
    "result = agent.run(\"What is the temperature in London?\")\n",
    "print(result)"
   ]
  },
  {
   "cell_type": "markdown",
   "id": "f9ca405f",
   "metadata": {},
   "source": [
    "## With a math question..."
   ]
  },
  {
   "cell_type": "code",
   "execution_count": 21,
   "id": "1d8b33eb",
   "metadata": {},
   "outputs": [
    {
     "name": "stdout",
     "output_type": "stream",
     "text": [
      "\n",
      "\n",
      "\u001b[1m> Entering new AgentExecutor chain...\u001b[0m\n",
      "\u001b[32;1m\u001b[1;3mI should use the calculator to solve this multiplication problem.\n",
      "Action: Calculator\n",
      "Action Input: 7 * 32\u001b[0m\n",
      "Observation: \u001b[36;1m\u001b[1;3mAnswer: 224\u001b[0m\n",
      "Thought:\u001b[32;1m\u001b[1;3mI now know the final answer\n",
      "Final Answer: 224\u001b[0m\n",
      "\n",
      "\u001b[1m> Finished chain.\u001b[0m\n",
      "224\n"
     ]
    }
   ],
   "source": [
    "result = agent.run(\"What is 7 * 32\")\n",
    "print(result)"
   ]
  },
  {
   "cell_type": "markdown",
   "id": "4f0c23b0",
   "metadata": {},
   "source": [
    "## With two cities..."
   ]
  },
  {
   "cell_type": "code",
   "execution_count": 22,
   "id": "66140fd4",
   "metadata": {},
   "outputs": [
    {
     "name": "stdout",
     "output_type": "stream",
     "text": [
      "\n",
      "\n",
      "\u001b[1m> Entering new AgentExecutor chain...\u001b[0m\n",
      "\u001b[32;1m\u001b[1;3mI should use the Weather tool to get the temperature for each city.\n",
      "Action: Weather\n",
      "Action Input: London\u001b[0m\n",
      "Observation: \u001b[33;1m\u001b[1;3mWeather in london: 65°F\u001b[0m\n",
      "Thought:\u001b[32;1m\u001b[1;3mI need to check the temperature for Tokyo as well.\n",
      "Action: Weather\n",
      "Action Input: Tokyo\u001b[0m\n",
      "Observation: \u001b[33;1m\u001b[1;3mWeather in tokyo: 87°F\u001b[0m\n",
      "Thought:\u001b[32;1m\u001b[1;3mI now have the temperature for both London and Tokyo.\n",
      "Final Answer: The temperature in London is 65°F and in Tokyo is 87°F.\u001b[0m\n",
      "\n",
      "\u001b[1m> Finished chain.\u001b[0m\n",
      "The temperature in London is 65°F and in Tokyo is 87°F.\n"
     ]
    }
   ],
   "source": [
    "result = agent.run(\"What is the temperature in London and Tokyo?\")\n",
    "print(result)"
   ]
  },
  {
   "cell_type": "markdown",
   "id": "5978738a",
   "metadata": {},
   "source": [
    "## And with a question that needs both tools and multiple calls"
   ]
  },
  {
   "cell_type": "code",
   "execution_count": 23,
   "id": "e2a3653c",
   "metadata": {},
   "outputs": [
    {
     "name": "stdout",
     "output_type": "stream",
     "text": [
      "\n",
      "\n",
      "\u001b[1m> Entering new AgentExecutor chain...\u001b[0m\n",
      "\u001b[32;1m\u001b[1;3mWe need to compare the temperatures in London and Tokyo\n",
      "Action: Weather\n",
      "Action Input: London\u001b[0m\n",
      "Observation: \u001b[33;1m\u001b[1;3mWeather in london: 65°F\u001b[0m\n",
      "Thought:\u001b[32;1m\u001b[1;3mWe have the weather for London, now we need to check Tokyo\n",
      "Action: Weather\n",
      "Action Input: Tokyo\u001b[0m\n",
      "Observation: \u001b[33;1m\u001b[1;3mWeather in tokyo: 87°F\u001b[0m\n",
      "Thought:\u001b[32;1m\u001b[1;3mWe have the temperature for both cities, now we can calculate the difference\n",
      "Action: Calculator\n",
      "Action Input: 87 - 65\u001b[0m\n",
      "Observation: \u001b[36;1m\u001b[1;3mAnswer: 22\u001b[0m\n",
      "Thought:\u001b[32;1m\u001b[1;3mI now know the final answer\n",
      "Final Answer: The difference in temperature between London and Tokyo is 22°F\u001b[0m\n",
      "\n",
      "\u001b[1m> Finished chain.\u001b[0m\n",
      "The difference in temperature between London and Tokyo is 22°F\n"
     ]
    }
   ],
   "source": [
    "result = agent.run(\"What is the difference in temperature between London and Tokyo\")\n",
    "print(result)"
   ]
  }
 ],
 "metadata": {
  "kernelspec": {
   "display_name": "agents",
   "language": "python",
   "name": "python3"
  },
  "language_info": {
   "codemirror_mode": {
    "name": "ipython",
    "version": 3
   },
   "file_extension": ".py",
   "mimetype": "text/x-python",
   "name": "python",
   "nbconvert_exporter": "python",
   "pygments_lexer": "ipython3",
   "version": "3.12.11"
  }
 },
 "nbformat": 4,
 "nbformat_minor": 5
}
